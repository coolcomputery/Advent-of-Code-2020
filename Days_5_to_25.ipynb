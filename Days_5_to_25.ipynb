{
 "cells": [
  {
   "cell_type": "code",
   "execution_count": 13,
   "metadata": {},
   "outputs": [],
   "source": [
    "import numpy as np"
   ]
  },
  {
   "cell_type": "code",
   "execution_count": 28,
   "metadata": {
    "scrolled": true
   },
   "outputs": [
    {
     "name": "stdout",
     "output_type": "stream",
     "text": [
      "3052\n"
     ]
    }
   ],
   "source": [
    "#day 6\n",
    "ins=[]\n",
    "with open('input.txt') as file:\n",
    "    ins.extend([line.strip() for line in file])\n",
    "groups=[]\n",
    "group=[]\n",
    "for l in ins:\n",
    "    if len(l)==0:\n",
    "        groups.append(group)\n",
    "        group=[]\n",
    "    else:\n",
    "        group.append(l)\n",
    "groups.append(group)\n",
    "#print(groups)\n",
    "part=2\n",
    "if part==1:\n",
    "    out=0\n",
    "    for g in groups:\n",
    "        yes=[False for i in range(0,26)]\n",
    "        for s in g:\n",
    "            for i in range(len(s)):\n",
    "                yes[ord(s[i])-ord('a')]=True\n",
    "        for i in range(0,26):\n",
    "            if yes[i]:\n",
    "                out+=1\n",
    "    print(out)\n",
    "else:\n",
    "    out=0\n",
    "    for g in groups:\n",
    "        yes=[True for i in range(0,26)]\n",
    "        for s in g:\n",
    "            t=[False for i in range(0,26)]\n",
    "            for i in range(len(s)):\n",
    "                t[ord(s[i])-ord('a')]=True\n",
    "            for i in range(0,26):\n",
    "                if not(t[i]):\n",
    "                    yes[i]=False\n",
    "        #print(yes)\n",
    "        for i in range(0,26):\n",
    "            if yes[i]:\n",
    "                out+=1\n",
    "        #print(out)\n",
    "    print(out)"
   ]
  },
  {
   "cell_type": "code",
   "execution_count": null,
   "metadata": {},
   "outputs": [],
   "source": [
    "#day 5\n",
    "file=open('input.txt','r')\n",
    "part=1\n",
    "if part==1:\n",
    "    ans=0\n",
    "    for i in range(837):\n",
    "        s=file.readline()\n",
    "        n=0\n",
    "        for i in range(10):\n",
    "            n=n*2+(0 if s[i]=='F' or s[i]=='L' else 1)\n",
    "        ans=max(ans,n)\n",
    "    print(ans)\n",
    "else:\n",
    "    def num(s):\n",
    "        n=0\n",
    "        for i in range(10):\n",
    "            n=n*2+(0 if s[i]=='F' or s[i]=='L' else 1)\n",
    "        return n\n",
    "    here=[False for i in range(1024)]\n",
    "    for i in range(837):\n",
    "        here[num(file.readline())]=True\n",
    "    for i in range(1,1023):\n",
    "        if here[i-1] and here[i+1] and not(here[i]):\n",
    "            print(i)"
   ]
  }
 ],
 "metadata": {
  "kernelspec": {
   "display_name": "Python 3",
   "language": "python",
   "name": "python3"
  },
  "language_info": {
   "codemirror_mode": {
    "name": "ipython",
    "version": 3
   },
   "file_extension": ".py",
   "mimetype": "text/x-python",
   "name": "python",
   "nbconvert_exporter": "python",
   "pygments_lexer": "ipython3",
   "version": "3.7.6"
  }
 },
 "nbformat": 4,
 "nbformat_minor": 4
}
