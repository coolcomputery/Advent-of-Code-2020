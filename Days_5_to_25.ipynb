{
 "cells": [
  {
   "cell_type": "code",
   "execution_count": null,
   "metadata": {},
   "outputs": [],
   "source": [
    "#day 5\n",
    "import numpy as np\n",
    "file=open('input.txt','r')\n",
    "part=1\n",
    "if part==1:\n",
    "    ans=0\n",
    "    for i in range(837):\n",
    "        s=file.readline()\n",
    "        n=0\n",
    "        for i in range(10):\n",
    "            n=n*2+(0 if s[i]=='F' or s[i]=='L' else 1)\n",
    "        ans=max(ans,n)\n",
    "    print(ans)\n",
    "else:\n",
    "    def num(s):\n",
    "        n=0\n",
    "        for i in range(10):\n",
    "            n=n*2+(0 if s[i]=='F' or s[i]=='L' else 1)\n",
    "        return n\n",
    "    here=[False for i in range(1024)]\n",
    "    for i in range(837):\n",
    "        here[num(file.readline())]=True\n",
    "    for i in range(1,1023):\n",
    "        if here[i-1] and here[i+1] and not(here[i]):\n",
    "            print(i)"
   ]
  }
 ],
 "metadata": {
  "kernelspec": {
   "display_name": "Python 3",
   "language": "python",
   "name": "python3"
  },
  "language_info": {
   "codemirror_mode": {
    "name": "ipython",
    "version": 3
   },
   "file_extension": ".py",
   "mimetype": "text/x-python",
   "name": "python",
   "nbconvert_exporter": "python",
   "pygments_lexer": "ipython3",
   "version": "3.7.6"
  }
 },
 "nbformat": 4,
 "nbformat_minor": 4
}
