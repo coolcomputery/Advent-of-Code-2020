#day 5
import numpy as np
file=open('input.txt','r')
part=2
if part==1:
    ans=0
    for i in range(837):
        s=file.readline()
        n=0
        for i in range(10):
            n=n*2+(0 if s[i]=='F' or s[i]=='L' else 1)
        ans=max(ans,n)
    print(ans)
else:
    def num(s):
        n=0
        for i in range(10):
            n=n*2+(0 if s[i]=='F' or s[i]=='L' else 1)
        return n
    here=[False for i in range(1024)]
    for i in range(837):
        here[num(file.readline())]=True
    for i in range(1,1023):
        if here[i-1] and here[i+1] and not(here[i]):
            print(i)
